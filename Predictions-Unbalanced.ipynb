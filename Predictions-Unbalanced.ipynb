{
 "cells": [
  {
   "cell_type": "code",
   "execution_count": 1,
   "metadata": {},
   "outputs": [],
   "source": [
    "import pandas as pd"
   ]
  },
  {
   "cell_type": "code",
   "execution_count": 2,
   "metadata": {},
   "outputs": [
    {
     "data": {
      "text/html": [
       "<div>\n",
       "<style scoped>\n",
       "    .dataframe tbody tr th:only-of-type {\n",
       "        vertical-align: middle;\n",
       "    }\n",
       "\n",
       "    .dataframe tbody tr th {\n",
       "        vertical-align: top;\n",
       "    }\n",
       "\n",
       "    .dataframe thead th {\n",
       "        text-align: right;\n",
       "    }\n",
       "</style>\n",
       "<table border=\"1\" class=\"dataframe\">\n",
       "  <thead>\n",
       "    <tr style=\"text-align: right;\">\n",
       "      <th></th>\n",
       "      <th>review_id</th>\n",
       "      <th>user_stars</th>\n",
       "      <th>user_review_count</th>\n",
       "      <th>user_useful</th>\n",
       "      <th>business_stars</th>\n",
       "      <th>business_review_count</th>\n",
       "      <th>unigram</th>\n",
       "      <th>class</th>\n",
       "    </tr>\n",
       "  </thead>\n",
       "  <tbody>\n",
       "    <tr>\n",
       "      <th>0</th>\n",
       "      <td>v0i_UHJMo_hPBq9bxWvW4w</td>\n",
       "      <td>4.67</td>\n",
       "      <td>6</td>\n",
       "      <td>0</td>\n",
       "      <td>4.0</td>\n",
       "      <td>1953</td>\n",
       "      <td>2.497094</td>\n",
       "      <td>5.0</td>\n",
       "    </tr>\n",
       "    <tr>\n",
       "      <th>1</th>\n",
       "      <td>vkVSCC7xljjrAI4UGfnKEQ</td>\n",
       "      <td>4.67</td>\n",
       "      <td>6</td>\n",
       "      <td>0</td>\n",
       "      <td>4.0</td>\n",
       "      <td>84</td>\n",
       "      <td>3.333678</td>\n",
       "      <td>5.0</td>\n",
       "    </tr>\n",
       "    <tr>\n",
       "      <th>2</th>\n",
       "      <td>n6QzIUObkYshz4dz2QRJTw</td>\n",
       "      <td>4.67</td>\n",
       "      <td>6</td>\n",
       "      <td>0</td>\n",
       "      <td>4.5</td>\n",
       "      <td>50</td>\n",
       "      <td>2.988476</td>\n",
       "      <td>5.0</td>\n",
       "    </tr>\n",
       "    <tr>\n",
       "      <th>3</th>\n",
       "      <td>MV3CcKScW05u5LVfF6ok0g</td>\n",
       "      <td>4.67</td>\n",
       "      <td>6</td>\n",
       "      <td>0</td>\n",
       "      <td>4.0</td>\n",
       "      <td>70</td>\n",
       "      <td>3.007784</td>\n",
       "      <td>5.0</td>\n",
       "    </tr>\n",
       "    <tr>\n",
       "      <th>4</th>\n",
       "      <td>IXvOzsEMYtiJI0CARmj77Q</td>\n",
       "      <td>4.67</td>\n",
       "      <td>6</td>\n",
       "      <td>0</td>\n",
       "      <td>3.5</td>\n",
       "      <td>61</td>\n",
       "      <td>2.890452</td>\n",
       "      <td>4.0</td>\n",
       "    </tr>\n",
       "  </tbody>\n",
       "</table>\n",
       "</div>"
      ],
      "text/plain": [
       "                review_id  user_stars  user_review_count  user_useful  \\\n",
       "0  v0i_UHJMo_hPBq9bxWvW4w        4.67                  6            0   \n",
       "1  vkVSCC7xljjrAI4UGfnKEQ        4.67                  6            0   \n",
       "2  n6QzIUObkYshz4dz2QRJTw        4.67                  6            0   \n",
       "3  MV3CcKScW05u5LVfF6ok0g        4.67                  6            0   \n",
       "4  IXvOzsEMYtiJI0CARmj77Q        4.67                  6            0   \n",
       "\n",
       "   business_stars  business_review_count   unigram  class  \n",
       "0             4.0                   1953  2.497094    5.0  \n",
       "1             4.0                     84  3.333678    5.0  \n",
       "2             4.5                     50  2.988476    5.0  \n",
       "3             4.0                     70  3.007784    5.0  \n",
       "4             3.5                     61  2.890452    4.0  "
      ]
     },
     "execution_count": 2,
     "metadata": {},
     "output_type": "execute_result"
    }
   ],
   "source": [
    "data = pd.read_csv('dataset/feature_vectors.csv')\n",
    "data.head()"
   ]
  },
  {
   "cell_type": "markdown",
   "metadata": {},
   "source": [
    "** Show the distribution of reviews **"
   ]
  },
  {
   "cell_type": "code",
   "execution_count": 3,
   "metadata": {},
   "outputs": [
    {
     "data": {
      "text/plain": [
       "<Container object of 5 artists>"
      ]
     },
     "execution_count": 3,
     "metadata": {},
     "output_type": "execute_result"
    },
    {
     "data": {
      "image/png": "[encoded data removed]",
      "text/plain": [
       "<matplotlib.figure.Figure at 0x7fbaa3fa8fd0>"
      ]
     },
     "metadata": {},
     "output_type": "display_data"
    }
   ],
   "source": [
    "import matplotlib.pyplot as plt\n",
    "%matplotlib inline\n",
    "\n",
    "c1 = data[data['class'] == 1].shape[0]\n",
    "c2 = data[data['class'] == 2].shape[0]\n",
    "c3 = data[data['class'] == 3].shape[0]\n",
    "c4 = data[data['class'] == 4].shape[0]\n",
    "c5 = data[data['class'] == 5].shape[0]\n",
    "\n",
    "x = [\"1.0\", \"2.0\", \"3.0\", \"4.0\", \"5.0\"]\n",
    "y = [c1,c2,c3,c4,c5]\n",
    "\n",
    "plt.bar(x,y)\n",
    "#data['class'].plot(kind='kde',style='k--')"
   ]
  },
  {
   "cell_type": "markdown",
   "metadata": {},
   "source": [
    "** Split our data into training and testing sets **"
   ]
  },
  {
   "cell_type": "code",
   "execution_count": 4,
   "metadata": {},
   "outputs": [],
   "source": [
    "from sklearn.model_selection import train_test_split\n",
    "import numpy as np\n",
    "from sklearn.preprocessing import StandardScaler\n",
    "\n",
    "X = data[['user_stars','user_review_count','user_useful','business_stars','business_review_count','unigram']]\n",
    "y = data[['class']]\n",
    "\n",
    "X_train, X_test, y_train, y_test = train_test_split(X, y, test_size=1/3, random_state=1)"
   ]
  },
  {
   "cell_type": "markdown",
   "metadata": {},
   "source": [
    "** Run a linear regression model on the data **"
   ]
  },
  {
   "cell_type": "code",
   "execution_count": 5,
   "metadata": {},
   "outputs": [
    {
     "name": "stdout",
     "output_type": "stream",
     "text": [
      "Root mean squared error = 0.9973\n",
      "R-squared = 0.4808\n",
      "Root mean squared error = 1.0006\n",
      "R-squared = 0.4819\n"
     ]
    }
   ],
   "source": [
    "from sklearn import linear_model\n",
    "from sklearn.metrics import mean_squared_error, r2_score\n",
    "import matplotlib.pyplot as plt\n",
    "\n",
    "# Create linear regression object\n",
    "regr = linear_model.LinearRegression() \n",
    "\n",
    "# Fit regression model to the training set\n",
    "regr.fit( X_train, y_train.values.ravel() )\n",
    "\n",
    "y_train_pred = regr.predict(X_train)\n",
    "\n",
    "# Apply model to the test set\n",
    "y_pred = regr.predict( X_test )\n",
    "\n",
    "# Model evaluation\n",
    "print(\"Root mean squared error = %.4f\" % np.sqrt( mean_squared_error(y_train, y_train_pred) ))\n",
    "print('R-squared = %.4f' % r2_score( y_train, y_train_pred ))\n",
    "\n",
    "print(\"Root mean squared error = %.4f\" % np.sqrt( mean_squared_error(y_test, y_pred) ))\n",
    "print('R-squared = %.4f' % r2_score( y_test, y_pred ))"
   ]
  },
  {
   "cell_type": "markdown",
   "metadata": {},
   "source": [
    "** Run a ridge regression model on the data **"
   ]
  },
  {
   "cell_type": "code",
   "execution_count": 6,
   "metadata": {},
   "outputs": [
    {
     "name": "stdout",
     "output_type": "stream",
     "text": [
      "Root mean squared error = 0.9973\n",
      "R-squared = 0.4808\n",
      "Root mean squared error = 1.0006\n",
      "R-squared = 0.4819\n",
      "Selected alpha = 1.00\n"
     ]
    }
   ],
   "source": [
    "# Create lasso regression object\n",
    "ridge = linear_model.RidgeCV(cv=5, alphas=[0.01,0.02,0.05,0.1,0.2,0.3,0.5,1.0])\n",
    "\n",
    "# Fit regression model to the training set\n",
    "ridge.fit( X_train, y_train.values.ravel() )\n",
    "\n",
    "y_train_pred = ridge.predict(X_train)\n",
    "\n",
    "# Apply model to the test set\n",
    "y_pred = ridge.predict( X_test )\n",
    "\n",
    "# Model evaluation\n",
    "print(\"Root mean squared error = %.4f\" % np.sqrt( mean_squared_error(y_train, y_train_pred) ))\n",
    "print('R-squared = %.4f' % r2_score( y_train, y_train_pred ))\n",
    "\n",
    "# Model evaluation\n",
    "print(\"Root mean squared error = %.4f\" % np.sqrt( mean_squared_error(y_test,y_pred) ))\n",
    "print('R-squared = %.4f' % r2_score( y_test,y_pred ))\n",
    "print('Selected alpha = %.2f' % ridge.alpha_)"
   ]
  },
  {
   "cell_type": "markdown",
   "metadata": {},
   "source": [
    "** Run a lasso regression model on the data **"
   ]
  },
  {
   "cell_type": "code",
   "execution_count": 7,
   "metadata": {},
   "outputs": [
    {
     "name": "stdout",
     "output_type": "stream",
     "text": [
      "Root mean squared error = 0.9975\n",
      "R-squared = 0.4807\n",
      "Root mean squared error = 1.0007\n",
      "R-squared = 0.4817\n",
      "Selected alpha = 0.01\n"
     ]
    }
   ],
   "source": [
    "# Create lasso regression object\n",
    "lasso = linear_model.LassoCV(cv=5, alphas=[0.01,0.02,0.05,0.1,0.2,0.3,0.5,1.0])\n",
    "\n",
    "# Fit regression model to the training set\n",
    "lasso.fit( X_train, y_train.values.ravel() )\n",
    "\n",
    "y_train_pred = lasso.predict(X_train)\n",
    "\n",
    "# Apply model to the test set\n",
    "y_pred = lasso.predict( X_test )\n",
    "\n",
    "# Model evaluation\n",
    "print(\"Root mean squared error = %.4f\" % np.sqrt( mean_squared_error(y_train, y_train_pred) ))\n",
    "print('R-squared = %.4f' % r2_score( y_train, y_train_pred ))\n",
    "\n",
    "# Model evaluation\n",
    "print(\"Root mean squared error = %.4f\" % np.sqrt( mean_squared_error(y_test,y_pred) ))\n",
    "print('R-squared = %.4f' % r2_score( y_test,y_pred ))\n",
    "print('Selected alpha = %.2f' % lasso.alpha_)"
   ]
  },
  {
   "cell_type": "markdown",
   "metadata": {},
   "source": [
    "** Test the RMSE and R2_score just using the unigram prediction **"
   ]
  },
  {
   "cell_type": "code",
   "execution_count": 8,
   "metadata": {},
   "outputs": [
    {
     "name": "stdout",
     "output_type": "stream",
     "text": [
      "Root mean squared error = 1.7003\n",
      "R-squared = -0.4961\n"
     ]
    }
   ],
   "source": [
    "from sklearn.model_selection import train_test_split\n",
    "import numpy as np\n",
    "\n",
    "y_unigram_pred = X_test[['unigram']]\n",
    "print(\"Root mean squared error = %.4f\" % np.sqrt( mean_squared_error(y_test,y_unigram_pred) ))\n",
    "print('R-squared = %.4f' % r2_score( y_test,y_unigram_pred ))"
   ]
  },
  {
   "cell_type": "markdown",
   "metadata": {},
   "source": [
    "** Test the RMSE and R2_score of a base case where every review is classified as 5 (the most common class) **"
   ]
  },
  {
   "cell_type": "code",
   "execution_count": 9,
   "metadata": {},
   "outputs": [
    {
     "name": "stdout",
     "output_type": "stream",
     "text": [
      "Root mean squared error = 1.8852\n",
      "R-squared = -0.8393\n"
     ]
    }
   ],
   "source": [
    "y_test_base = [5 for i in range(len(y_test))]\n",
    "print(\"Root mean squared error = %.4f\" % np.sqrt( mean_squared_error(y_test, y_test_base) ))\n",
    "print('R-squared = %.4f' % r2_score( y_test, y_test_base ))"
   ]
  },
  {
   "cell_type": "markdown",
   "metadata": {},
   "source": [
    "** Test the RMSE and R2_score of a base case where every review is classified as the average review score **"
   ]
  },
  {
   "cell_type": "code",
   "execution_count": 11,
   "metadata": {},
   "outputs": [
    {
     "name": "stdout",
     "output_type": "stream",
     "text": [
      "Root mean squared error = 1.3901\n",
      "R-squared = -0.0000\n"
     ]
    }
   ],
   "source": [
    "x = 5*(len(data[data['class']==5])/50000)+4*(len(data[data['class']==4])/50000)+3*(len(data[data['class']==3])/50000)+2*(len(data[data['class']==2])/50000)+1*(len(data[data['class']==1])/50000)\n",
    "y_test_base = [x for i in range(len(y_test))]\n",
    "print(\"Root mean squared error = %.4f\" % np.sqrt( mean_squared_error(y_test, y_test_base) ))\n",
    "print('R-squared = %.4f' % r2_score( y_test, y_test_base ))"
   ]
  },
  {
   "cell_type": "markdown",
   "metadata": {},
   "source": [
    "** Run a logistic regression classifier on the feature vector **"
   ]
  },
  {
   "cell_type": "code",
   "execution_count": 12,
   "metadata": {},
   "outputs": [
    {
     "name": "stdout",
     "output_type": "stream",
     "text": [
      "Accuracy = 0.5258\n"
     ]
    }
   ],
   "source": [
    "from sklearn.metrics import accuracy_score\n",
    "\n",
    "y_train = y_train.astype('int')\n",
    "y_test = y_test.astype('int')\n",
    "logistic = linear_model.LogisticRegressionCV(cv= 5 , Cs = [0.01, 0.05, 0.1, 0.5, 1] )\n",
    "logistic.fit( X_train, y_train.values.ravel() )\n",
    "class_pred = logistic.predict( X_test )\n",
    "\n",
    "print('Accuracy = %.4f' % accuracy_score( y_test, class_pred ))"
   ]
  },
  {
   "cell_type": "markdown",
   "metadata": {},
   "source": [
    "** Determine base classification accuracy by classifying as 5 every time **"
   ]
  },
  {
   "cell_type": "code",
   "execution_count": 13,
   "metadata": {},
   "outputs": [
    {
     "name": "stdout",
     "output_type": "stream",
     "text": [
      "Base accuracy = 0.4037\n"
     ]
    }
   ],
   "source": [
    "print(\"Base accuracy = %.4f\" % (len(data[data['class']==5])/50000))"
   ]
  },
  {
   "cell_type": "markdown",
   "metadata": {},
   "source": [
    "** Determine base classification accuracy by assigning a random class based on the probability distribution of our data **"
   ]
  },
  {
   "cell_type": "code",
   "execution_count": 14,
   "metadata": {},
   "outputs": [
    {
     "name": "stdout",
     "output_type": "stream",
     "text": [
      "Accuracy = 0.2666\n"
     ]
    }
   ],
   "source": [
    "from random import randint\n",
    "\n",
    "y_base_class = []\n",
    "pred5 = 100 - (len(data[data['class']==5])/50000)*100\n",
    "pred4 = pred5 - (len(data[data['class']==4])/50000)*100\n",
    "pred3 = pred4 - (len(data[data['class']==3])/50000)*100\n",
    "pred2 = pred3 - (len(data[data['class']==2])/50000)*100\n",
    "pred1 = pred2 - (len(data[data['class']==1])/50000)*100\n",
    "\n",
    "for i in range(len(y_test)):\n",
    "    x=randint(0, 100)\n",
    "    if x > pred5:\n",
    "        y_base_class.append(5)\n",
    "    elif x > pred4:\n",
    "        y_base_class.append(4)\n",
    "    elif x > pred3:\n",
    "        y_base_class.append(3)\n",
    "    elif x > pred2:\n",
    "        y_base_class.append(2)\n",
    "    else:\n",
    "        y_base_class.append(1)\n",
    "        \n",
    "print('Accuracy = %.4f' % accuracy_score( y_test, y_base_class ))"
   ]
  },
  {
   "cell_type": "markdown",
   "metadata": {},
   "source": [
    "** Re-train the model by classifying reviews as \"good\" (1) or \"bad\" (0) instead of making a unigram prediction **"
   ]
  },
  {
   "cell_type": "code",
   "execution_count": 15,
   "metadata": {},
   "outputs": [
    {
     "name": "stderr",
     "output_type": "stream",
     "text": [
      "/home/ec2-user/anaconda3/lib/python3.6/site-packages/ipykernel_launcher.py:8: SettingWithCopyWarning: \n",
      "A value is trying to be set on a copy of a slice from a DataFrame.\n",
      "Try using .loc[row_indexer,col_indexer] = value instead\n",
      "\n",
      "See the caveats in the documentation: http://pandas.pydata.org/pandas-docs/stable/indexing.html#indexing-view-versus-copy\n",
      "  \n",
      "/home/ec2-user/anaconda3/lib/python3.6/site-packages/ipykernel_launcher.py:9: SettingWithCopyWarning: \n",
      "A value is trying to be set on a copy of a slice from a DataFrame.\n",
      "Try using .loc[row_indexer,col_indexer] = value instead\n",
      "\n",
      "See the caveats in the documentation: http://pandas.pydata.org/pandas-docs/stable/indexing.html#indexing-view-versus-copy\n",
      "  if __name__ == '__main__':\n"
     ]
    }
   ],
   "source": [
    "from sklearn.model_selection import train_test_split\n",
    "import numpy as np\n",
    "import copy\n",
    "\n",
    "X_train_copy = copy.deepcopy(X_train)\n",
    "X_test_copy = copy.deepcopy(X_test)\n",
    "\n",
    "X_train['unigram'] = [1 if point >= 2.5 else 0 for point in X_train_copy['unigram']]\n",
    "X_test['unigram'] = [1 if point >= 2.5 else 0 for point in X_test_copy['unigram']]"
   ]
  },
  {
   "cell_type": "code",
   "execution_count": 16,
   "metadata": {},
   "outputs": [
    {
     "name": "stdout",
     "output_type": "stream",
     "text": [
      "Root mean squared error = 0.9956\n",
      "R-squared = 0.4826\n",
      "Root mean squared error = 0.9955\n",
      "R-squared = 0.4871\n"
     ]
    }
   ],
   "source": [
    "from sklearn import linear_model\n",
    "from sklearn.metrics import mean_squared_error, r2_score\n",
    "import matplotlib.pyplot as plt\n",
    "\n",
    "# Create linear regression object\n",
    "regr = linear_model.LinearRegression() \n",
    "\n",
    "# Fit regression model to the training set\n",
    "regr.fit( X_train, y_train.values.ravel() )\n",
    "\n",
    "y_train_pred = regr.predict(X_train)\n",
    "\n",
    "# Apply model to the test set\n",
    "y_pred = regr.predict( X_test )\n",
    "\n",
    "# Model evaluation\n",
    "print(\"Root mean squared error = %.4f\" % np.sqrt( mean_squared_error(y_train, y_train_pred) ))\n",
    "print('R-squared = %.4f' % r2_score( y_train, y_train_pred ))\n",
    "\n",
    "print(\"Root mean squared error = %.4f\" % np.sqrt( mean_squared_error(y_test, y_pred) ))\n",
    "print('R-squared = %.4f' % r2_score( y_test, y_pred ))"
   ]
  },
  {
   "cell_type": "code",
   "execution_count": 17,
   "metadata": {},
   "outputs": [
    {
     "name": "stdout",
     "output_type": "stream",
     "text": [
      "Root mean squared error = 0.9956\n",
      "R-squared = 0.4826\n",
      "Root mean squared error = 0.9955\n",
      "R-squared = 0.4871\n",
      "Selected alpha = 1.00\n"
     ]
    }
   ],
   "source": [
    "# Create lasso regression object\n",
    "ridge = linear_model.RidgeCV(cv=5, alphas=[0.01,0.02,0.05,0.1,0.2,0.3,0.5,1.0])\n",
    "\n",
    "# Fit regression model to the training set\n",
    "ridge.fit( X_train, y_train.values.ravel() )\n",
    "\n",
    "y_train_pred = ridge.predict(X_train)\n",
    "\n",
    "# Apply model to the test set\n",
    "y_pred = ridge.predict( X_test )\n",
    "\n",
    "# Model evaluation\n",
    "print(\"Root mean squared error = %.4f\" % np.sqrt( mean_squared_error(y_train, y_train_pred) ))\n",
    "print('R-squared = %.4f' % r2_score( y_train, y_train_pred ))\n",
    "\n",
    "# Model evaluation\n",
    "print(\"Root mean squared error = %.4f\" % np.sqrt( mean_squared_error(y_test,y_pred) ))\n",
    "print('R-squared = %.4f' % r2_score( y_test,y_pred ))\n",
    "print('Selected alpha = %.2f' % ridge.alpha_)"
   ]
  },
  {
   "cell_type": "code",
   "execution_count": 18,
   "metadata": {},
   "outputs": [
    {
     "name": "stdout",
     "output_type": "stream",
     "text": [
      "Root mean squared error = 0.9956\n",
      "R-squared = 0.4826\n",
      "Root mean squared error = 0.9960\n",
      "R-squared = 0.4867\n",
      "Selected alpha = 0.01\n"
     ]
    }
   ],
   "source": [
    "# Create lasso regression object\n",
    "lasso = linear_model.LassoCV(cv=5, alphas=[0.01,0.02,0.05,0.1,0.2,0.3,0.5,1.0])\n",
    "\n",
    "# Fit regression model to the training set\n",
    "lasso.fit( X_train, y_train.values.ravel() )\n",
    "\n",
    "y_train_pred = regr.predict(X_train)\n",
    "\n",
    "# Apply model to the test set\n",
    "y_pred = lasso.predict( X_test )\n",
    "\n",
    "# Model evaluation\n",
    "print(\"Root mean squared error = %.4f\" % np.sqrt( mean_squared_error(y_train, y_train_pred) ))\n",
    "print('R-squared = %.4f' % r2_score( y_train, y_train_pred ))\n",
    "\n",
    "# Model evaluation\n",
    "print(\"Root mean squared error = %.4f\" % np.sqrt( mean_squared_error(y_test,y_pred) ))\n",
    "print('R-squared = %.4f' % r2_score( y_test,y_pred ))\n",
    "print('Selected alpha = %.2f' % lasso.alpha_)"
   ]
  },
  {
   "cell_type": "code",
   "execution_count": 19,
   "metadata": {},
   "outputs": [
    {
     "name": "stdout",
     "output_type": "stream",
     "text": [
      "Accuracy = 0.5313\n"
     ]
    }
   ],
   "source": [
    "from sklearn.metrics import accuracy_score\n",
    "\n",
    "logistic = linear_model.LogisticRegressionCV(cv= 5 , Cs = [0.01, 0.05, 0.1, 0.5, 1] )\n",
    "logistic.fit( X_train, y_train.values.ravel() )\n",
    "class_pred = logistic.predict( X_test )\n",
    "\n",
    "print('Accuracy = %.4f' % accuracy_score( y_test, class_pred ))"
   ]
  },
  {
   "cell_type": "markdown",
   "metadata": {},
   "source": [
    "**Re-train the model by classifying reviews as \"good\" (2), \"medium\" (1) or \"bad\" (0) instead of making a unigram prediction**"
   ]
  },
  {
   "cell_type": "code",
   "execution_count": 20,
   "metadata": {
    "scrolled": true
   },
   "outputs": [
    {
     "name": "stderr",
     "output_type": "stream",
     "text": [
      "/home/ec2-user/anaconda3/lib/python3.6/site-packages/ipykernel_launcher.py:5: SettingWithCopyWarning: \n",
      "A value is trying to be set on a copy of a slice from a DataFrame.\n",
      "Try using .loc[row_indexer,col_indexer] = value instead\n",
      "\n",
      "See the caveats in the documentation: http://pandas.pydata.org/pandas-docs/stable/indexing.html#indexing-view-versus-copy\n",
      "  \"\"\"\n",
      "/home/ec2-user/anaconda3/lib/python3.6/site-packages/ipykernel_launcher.py:6: SettingWithCopyWarning: \n",
      "A value is trying to be set on a copy of a slice from a DataFrame.\n",
      "Try using .loc[row_indexer,col_indexer] = value instead\n",
      "\n",
      "See the caveats in the documentation: http://pandas.pydata.org/pandas-docs/stable/indexing.html#indexing-view-versus-copy\n",
      "  \n"
     ]
    },
    {
     "data": {
      "text/html": [
       "<div>\n",
       "<style scoped>\n",
       "    .dataframe tbody tr th:only-of-type {\n",
       "        vertical-align: middle;\n",
       "    }\n",
       "\n",
       "    .dataframe tbody tr th {\n",
       "        vertical-align: top;\n",
       "    }\n",
       "\n",
       "    .dataframe thead th {\n",
       "        text-align: right;\n",
       "    }\n",
       "</style>\n",
       "<table border=\"1\" class=\"dataframe\">\n",
       "  <thead>\n",
       "    <tr style=\"text-align: right;\">\n",
       "      <th></th>\n",
       "      <th>user_stars</th>\n",
       "      <th>user_review_count</th>\n",
       "      <th>user_useful</th>\n",
       "      <th>business_stars</th>\n",
       "      <th>business_review_count</th>\n",
       "      <th>unigram</th>\n",
       "    </tr>\n",
       "  </thead>\n",
       "  <tbody>\n",
       "    <tr>\n",
       "      <th>12741</th>\n",
       "      <td>2.39</td>\n",
       "      <td>490</td>\n",
       "      <td>175</td>\n",
       "      <td>3.0</td>\n",
       "      <td>340</td>\n",
       "      <td>0</td>\n",
       "    </tr>\n",
       "    <tr>\n",
       "      <th>18005</th>\n",
       "      <td>3.59</td>\n",
       "      <td>77</td>\n",
       "      <td>116</td>\n",
       "      <td>4.5</td>\n",
       "      <td>686</td>\n",
       "      <td>1</td>\n",
       "    </tr>\n",
       "    <tr>\n",
       "      <th>36729</th>\n",
       "      <td>3.88</td>\n",
       "      <td>58</td>\n",
       "      <td>2</td>\n",
       "      <td>4.5</td>\n",
       "      <td>1041</td>\n",
       "      <td>1</td>\n",
       "    </tr>\n",
       "    <tr>\n",
       "      <th>48571</th>\n",
       "      <td>3.74</td>\n",
       "      <td>18</td>\n",
       "      <td>23</td>\n",
       "      <td>5.0</td>\n",
       "      <td>22</td>\n",
       "      <td>0</td>\n",
       "    </tr>\n",
       "    <tr>\n",
       "      <th>25464</th>\n",
       "      <td>3.47</td>\n",
       "      <td>13</td>\n",
       "      <td>79</td>\n",
       "      <td>4.0</td>\n",
       "      <td>177</td>\n",
       "      <td>2</td>\n",
       "    </tr>\n",
       "  </tbody>\n",
       "</table>\n",
       "</div>"
      ],
      "text/plain": [
       "       user_stars  user_review_count  user_useful  business_stars  \\\n",
       "12741        2.39                490          175             3.0   \n",
       "18005        3.59                 77          116             4.5   \n",
       "36729        3.88                 58            2             4.5   \n",
       "48571        3.74                 18           23             5.0   \n",
       "25464        3.47                 13           79             4.0   \n",
       "\n",
       "       business_review_count  unigram  \n",
       "12741                    340        0  \n",
       "18005                    686        1  \n",
       "36729                   1041        1  \n",
       "48571                     22        0  \n",
       "25464                    177        2  "
      ]
     },
     "execution_count": 20,
     "metadata": {},
     "output_type": "execute_result"
    }
   ],
   "source": [
    "from sklearn.model_selection import train_test_split\n",
    "import numpy as np\n",
    "import copy\n",
    "\n",
    "X_train['unigram'] = [2 if point > 3.1 else 1 if point > 2.1 else 0 for point in X_train_copy['unigram']]\n",
    "X_test['unigram'] = [2 if point > 3.1 else 1 if point > 2.1 else 0 for point in X_test_copy['unigram']]\n",
    "\n",
    "X_train.head()"
   ]
  },
  {
   "cell_type": "code",
   "execution_count": 21,
   "metadata": {},
   "outputs": [
    {
     "name": "stdout",
     "output_type": "stream",
     "text": [
      "Root mean squared error = 0.9713\n",
      "R-squared = 0.5075\n",
      "Root mean squared error = 0.9714\n",
      "R-squared = 0.5116\n"
     ]
    }
   ],
   "source": [
    "from sklearn import linear_model\n",
    "from sklearn.metrics import mean_squared_error, r2_score\n",
    "import matplotlib.pyplot as plt\n",
    "\n",
    "# Create linear regression object\n",
    "regr = linear_model.LinearRegression() \n",
    "\n",
    "# Fit regression model to the training set\n",
    "regr.fit( X_train, y_train.values.ravel() )\n",
    "\n",
    "y_train_pred = regr.predict(X_train)\n",
    "\n",
    "# Apply model to the test set\n",
    "y_pred = regr.predict( X_test )\n",
    "\n",
    "# Model evaluation\n",
    "print(\"Root mean squared error = %.4f\" % np.sqrt( mean_squared_error(y_train, y_train_pred) ))\n",
    "print('R-squared = %.4f' % r2_score( y_train, y_train_pred ))\n",
    "\n",
    "print(\"Root mean squared error = %.4f\" % np.sqrt( mean_squared_error(y_test, y_pred) ))\n",
    "print('R-squared = %.4f' % r2_score( y_test, y_pred ))"
   ]
  },
  {
   "cell_type": "code",
   "execution_count": 22,
   "metadata": {},
   "outputs": [
    {
     "name": "stdout",
     "output_type": "stream",
     "text": [
      "Root mean squared error = 0.9713\n",
      "R-squared = 0.5075\n",
      "Root mean squared error = 0.9714\n",
      "R-squared = 0.5116\n",
      "Selected alpha = 1.00\n"
     ]
    }
   ],
   "source": [
    "# Create lasso regression object\n",
    "ridge = linear_model.RidgeCV(cv=5, alphas=[0.01,0.02,0.05,0.1,0.2,0.3,0.5,1.0])\n",
    "\n",
    "# Fit regression model to the training set\n",
    "ridge.fit( X_train, y_train.values.ravel() )\n",
    "\n",
    "y_train_pred = ridge.predict(X_train)\n",
    "\n",
    "# Apply model to the test set\n",
    "y_pred = ridge.predict( X_test )\n",
    "\n",
    "# Model evaluation\n",
    "print(\"Root mean squared error = %.4f\" % np.sqrt( mean_squared_error(y_train, y_train_pred) ))\n",
    "print('R-squared = %.4f' % r2_score( y_train, y_train_pred ))\n",
    "\n",
    "# Model evaluation\n",
    "print(\"Root mean squared error = %.4f\" % np.sqrt( mean_squared_error(y_test,y_pred) ))\n",
    "print('R-squared = %.4f' % r2_score( y_test,y_pred ))\n",
    "print('Selected alpha = %.2f' % ridge.alpha_)"
   ]
  },
  {
   "cell_type": "code",
   "execution_count": 23,
   "metadata": {},
   "outputs": [
    {
     "name": "stdout",
     "output_type": "stream",
     "text": [
      "Root mean squared error = 0.9713\n",
      "R-squared = 0.5075\n",
      "Root mean squared error = 0.9717\n",
      "R-squared = 0.5114\n",
      "Selected alpha = 0.01\n"
     ]
    }
   ],
   "source": [
    "# Create lasso regression object\n",
    "lasso = linear_model.LassoCV(cv=5, alphas=[0.01,0.02,0.05,0.1,0.2,0.3,0.5,1.0])\n",
    "\n",
    "# Fit regression model to the training set\n",
    "lasso.fit( X_train, y_train.values.ravel() )\n",
    "\n",
    "y_train_pred = regr.predict(X_train)\n",
    "\n",
    "# Apply model to the test set\n",
    "y_pred = lasso.predict( X_test )\n",
    "\n",
    "# Model evaluation\n",
    "print(\"Root mean squared error = %.4f\" % np.sqrt( mean_squared_error(y_train, y_train_pred) ))\n",
    "print('R-squared = %.4f' % r2_score( y_train, y_train_pred ))\n",
    "\n",
    "# Model evaluation\n",
    "print(\"Root mean squared error = %.4f\" % np.sqrt( mean_squared_error(y_test,y_pred) ))\n",
    "print('R-squared = %.4f' % r2_score( y_test,y_pred ))\n",
    "print('Selected alpha = %.2f' % lasso.alpha_)"
   ]
  },
  {
   "cell_type": "code",
   "execution_count": 24,
   "metadata": {},
   "outputs": [
    {
     "name": "stdout",
     "output_type": "stream",
     "text": [
      "Accuracy = 0.5318\n"
     ]
    }
   ],
   "source": [
    "from sklearn.metrics import accuracy_score\n",
    "\n",
    "logistic = linear_model.LogisticRegressionCV(cv= 5 , Cs = [0.01, 0.05, 0.1, 0.5, 1] )\n",
    "logistic.fit( X_train, y_train.values.ravel() )\n",
    "class_pred = logistic.predict( X_test )\n",
    "\n",
    "print('Accuracy = %.4f' % accuracy_score( y_test, class_pred ))"
   ]
  },
  {
   "cell_type": "markdown",
   "metadata": {},
   "source": [
    "** PCA **"
   ]
  },
  {
   "cell_type": "code",
   "execution_count": 25,
   "metadata": {},
   "outputs": [],
   "source": [
    "from sklearn.model_selection import train_test_split\n",
    "import numpy as np\n",
    "\n",
    "X = data[['user_stars','user_review_count','user_useful','business_stars','business_review_count','unigram']]\n",
    "y = data[['class']]\n",
    "y = y.astype('int')\n",
    "\n",
    "X_train, X_test, y_train, y_test = train_test_split(X, y, test_size=1/3, random_state=1)"
   ]
  },
  {
   "cell_type": "code",
   "execution_count": 26,
   "metadata": {},
   "outputs": [],
   "source": [
    "from sklearn.decomposition import PCA\n",
    "pca = PCA(n_components=2)\n",
    "principalComponents = pca.fit_transform(X)\n",
    "principalDf = pd.DataFrame(data = principalComponents, columns = ['principal component 1', 'principal component 2'])"
   ]
  },
  {
   "cell_type": "code",
   "execution_count": 27,
   "metadata": {},
   "outputs": [
    {
     "data": {
      "text/html": [
       "<div>\n",
       "<style scoped>\n",
       "    .dataframe tbody tr th:only-of-type {\n",
       "        vertical-align: middle;\n",
       "    }\n",
       "\n",
       "    .dataframe tbody tr th {\n",
       "        vertical-align: top;\n",
       "    }\n",
       "\n",
       "    .dataframe thead th {\n",
       "        text-align: right;\n",
       "    }\n",
       "</style>\n",
       "<table border=\"1\" class=\"dataframe\">\n",
       "  <thead>\n",
       "    <tr style=\"text-align: right;\">\n",
       "      <th></th>\n",
       "      <th>principal component 1</th>\n",
       "      <th>principal component 2</th>\n",
       "      <th>class</th>\n",
       "    </tr>\n",
       "  </thead>\n",
       "  <tbody>\n",
       "    <tr>\n",
       "      <th>0</th>\n",
       "      <td>-32.330861</td>\n",
       "      <td>1623.875208</td>\n",
       "      <td>5</td>\n",
       "    </tr>\n",
       "    <tr>\n",
       "      <th>1</th>\n",
       "      <td>-234.573336</td>\n",
       "      <td>-233.851890</td>\n",
       "      <td>5</td>\n",
       "    </tr>\n",
       "    <tr>\n",
       "      <th>2</th>\n",
       "      <td>-238.252441</td>\n",
       "      <td>-267.646819</td>\n",
       "      <td>5</td>\n",
       "    </tr>\n",
       "    <tr>\n",
       "      <th>3</th>\n",
       "      <td>-236.088253</td>\n",
       "      <td>-247.767479</td>\n",
       "      <td>5</td>\n",
       "    </tr>\n",
       "    <tr>\n",
       "      <th>4</th>\n",
       "      <td>-237.062120</td>\n",
       "      <td>-256.713238</td>\n",
       "      <td>4</td>\n",
       "    </tr>\n",
       "  </tbody>\n",
       "</table>\n",
       "</div>"
      ],
      "text/plain": [
       "   principal component 1  principal component 2  class\n",
       "0             -32.330861            1623.875208      5\n",
       "1            -234.573336            -233.851890      5\n",
       "2            -238.252441            -267.646819      5\n",
       "3            -236.088253            -247.767479      5\n",
       "4            -237.062120            -256.713238      4"
      ]
     },
     "execution_count": 27,
     "metadata": {},
     "output_type": "execute_result"
    }
   ],
   "source": [
    "finalDf = pd.concat([principalDf,y],axis=1)\n",
    "finalDf.head()"
   ]
  },
  {
   "cell_type": "code",
   "execution_count": 28,
   "metadata": {},
   "outputs": [
    {
     "data": {
      "image/png": "[encoded data removed]",
      "text/plain": [
       "<matplotlib.figure.Figure at 0x7f2a2124f320>"
      ]
     },
     "metadata": {},
     "output_type": "display_data"
    }
   ],
   "source": [
    "fig = plt.figure(figsize = (8,8))\n",
    "ax = fig.add_subplot(1,1,1) \n",
    "ax.set_xlabel('Principal Component 1', fontsize = 15)\n",
    "ax.set_ylabel('Principal Component 2', fontsize = 15)\n",
    "ax.set_title('2 component PCA', fontsize = 20)\n",
    "targets = [1.0,2.0,3.0,4.0,5.0]\n",
    "colors = ['y','k','b','g','r']\n",
    "for target, color in zip(targets,colors):\n",
    "    indicesToKeep = finalDf['class'] == target\n",
    "    ax.scatter(finalDf.loc[indicesToKeep, 'principal component 1']\n",
    "               , finalDf.loc[indicesToKeep, 'principal component 2']\n",
    "               , c = color\n",
    "               , s = 50)\n",
    "ax.legend(targets)\n",
    "ax.grid() "
   ]
  },
  {
   "cell_type": "code",
   "execution_count": 29,
   "metadata": {},
   "outputs": [],
   "source": [
    "from sklearn.model_selection import train_test_split\n",
    "import numpy as np\n",
    "\n",
    "X_train, X_test, y_train, y_test = train_test_split(finalDf[['principal component 1', 'principal component 2']], finalDf[['class']], test_size=1/3, random_state=1)"
   ]
  },
  {
   "cell_type": "code",
   "execution_count": 30,
   "metadata": {},
   "outputs": [
    {
     "name": "stdout",
     "output_type": "stream",
     "text": [
      "Root mean squared error = 1.3835\n",
      "R-squared = 0.0009\n",
      "Root mean squared error = 1.3893\n",
      "R-squared = 0.0011\n"
     ]
    }
   ],
   "source": [
    "from sklearn import linear_model\n",
    "from sklearn.metrics import mean_squared_error, r2_score\n",
    "import matplotlib.pyplot as plt\n",
    "\n",
    "# Create linear regression object\n",
    "regr = linear_model.LinearRegression() \n",
    "\n",
    "# Fit regression model to the training set\n",
    "regr.fit( X_train, y_train.values.ravel() )\n",
    "\n",
    "y_train_pred = regr.predict(X_train)\n",
    "\n",
    "# Apply model to the test set\n",
    "y_pred = regr.predict( X_test )\n",
    "\n",
    "# Model evaluation\n",
    "print(\"Root mean squared error = %.4f\" % np.sqrt( mean_squared_error(y_train, y_train_pred) ))\n",
    "print('R-squared = %.4f' % r2_score( y_train, y_train_pred ))\n",
    "\n",
    "print(\"Root mean squared error = %.4f\" % np.sqrt( mean_squared_error(y_test, y_pred) ))\n",
    "print('R-squared = %.4f' % r2_score( y_test, y_pred ))"
   ]
  },
  {
   "cell_type": "code",
   "execution_count": 31,
   "metadata": {},
   "outputs": [
    {
     "name": "stdout",
     "output_type": "stream",
     "text": [
      "Accuracy = 0.4067\n"
     ]
    }
   ],
   "source": [
    "from sklearn.metrics import accuracy_score\n",
    "\n",
    "logistic = linear_model.LogisticRegressionCV(cv= 5 , Cs = [0.01, 0.05, 0.1, 0.5, 1] )\n",
    "logistic.fit( X_train, y_train.values.ravel() )\n",
    "class_pred = logistic.predict( X_test )\n",
    "\n",
    "print('Accuracy = %.4f' % accuracy_score( y_test, class_pred ))"
   ]
  },
  {
   "cell_type": "markdown",
   "metadata": {},
   "source": [
    "** 3D PCA **"
   ]
  },
  {
   "cell_type": "code",
   "execution_count": 32,
   "metadata": {},
   "outputs": [],
   "source": [
    "from sklearn.decomposition import PCA\n",
    "pca = PCA(n_components=3)\n",
    "principalComponents = pca.fit_transform(X)\n",
    "principalDf = pd.DataFrame(data = principalComponents, columns = ['principal component 1', 'principal component 2', 'principal component 3'])"
   ]
  },
  {
   "cell_type": "code",
   "execution_count": 33,
   "metadata": {},
   "outputs": [
    {
     "data": {
      "text/html": [
       "<div>\n",
       "<style scoped>\n",
       "    .dataframe tbody tr th:only-of-type {\n",
       "        vertical-align: middle;\n",
       "    }\n",
       "\n",
       "    .dataframe tbody tr th {\n",
       "        vertical-align: top;\n",
       "    }\n",
       "\n",
       "    .dataframe thead th {\n",
       "        text-align: right;\n",
       "    }\n",
       "</style>\n",
       "<table border=\"1\" class=\"dataframe\">\n",
       "  <thead>\n",
       "    <tr style=\"text-align: right;\">\n",
       "      <th></th>\n",
       "      <th>principal component 1</th>\n",
       "      <th>principal component 2</th>\n",
       "      <th>principal component 3</th>\n",
       "      <th>class</th>\n",
       "    </tr>\n",
       "  </thead>\n",
       "  <tbody>\n",
       "    <tr>\n",
       "      <th>0</th>\n",
       "      <td>-32.330861</td>\n",
       "      <td>1623.875208</td>\n",
       "      <td>131.095942</td>\n",
       "      <td>5</td>\n",
       "    </tr>\n",
       "    <tr>\n",
       "      <th>1</th>\n",
       "      <td>-234.573336</td>\n",
       "      <td>-233.851890</td>\n",
       "      <td>97.798605</td>\n",
       "      <td>5</td>\n",
       "    </tr>\n",
       "    <tr>\n",
       "      <th>2</th>\n",
       "      <td>-238.252441</td>\n",
       "      <td>-267.646819</td>\n",
       "      <td>97.192998</td>\n",
       "      <td>5</td>\n",
       "    </tr>\n",
       "    <tr>\n",
       "      <th>3</th>\n",
       "      <td>-236.088253</td>\n",
       "      <td>-247.767479</td>\n",
       "      <td>97.549268</td>\n",
       "      <td>5</td>\n",
       "    </tr>\n",
       "    <tr>\n",
       "      <th>4</th>\n",
       "      <td>-237.062120</td>\n",
       "      <td>-256.713238</td>\n",
       "      <td>97.388922</td>\n",
       "      <td>4</td>\n",
       "    </tr>\n",
       "    <tr>\n",
       "      <th>5</th>\n",
       "      <td>-200.703973</td>\n",
       "      <td>77.260351</td>\n",
       "      <td>103.374724</td>\n",
       "      <td>4</td>\n",
       "    </tr>\n",
       "    <tr>\n",
       "      <th>6</th>\n",
       "      <td>-240.308578</td>\n",
       "      <td>-279.580531</td>\n",
       "      <td>101.921422</td>\n",
       "      <td>5</td>\n",
       "    </tr>\n",
       "    <tr>\n",
       "      <th>7</th>\n",
       "      <td>-100.544709</td>\n",
       "      <td>-215.246925</td>\n",
       "      <td>-238.756103</td>\n",
       "      <td>4</td>\n",
       "    </tr>\n",
       "    <tr>\n",
       "      <th>8</th>\n",
       "      <td>-105.630541</td>\n",
       "      <td>-261.963395</td>\n",
       "      <td>-239.593564</td>\n",
       "      <td>4</td>\n",
       "    </tr>\n",
       "    <tr>\n",
       "      <th>9</th>\n",
       "      <td>-85.395451</td>\n",
       "      <td>-76.091364</td>\n",
       "      <td>-236.261969</td>\n",
       "      <td>3</td>\n",
       "    </tr>\n",
       "    <tr>\n",
       "      <th>10</th>\n",
       "      <td>-112.231326</td>\n",
       "      <td>-322.595331</td>\n",
       "      <td>-240.680455</td>\n",
       "      <td>5</td>\n",
       "    </tr>\n",
       "    <tr>\n",
       "      <th>11</th>\n",
       "      <td>-108.768575</td>\n",
       "      <td>-290.788567</td>\n",
       "      <td>-240.110107</td>\n",
       "      <td>4</td>\n",
       "    </tr>\n",
       "    <tr>\n",
       "      <th>12</th>\n",
       "      <td>-104.332012</td>\n",
       "      <td>-250.035850</td>\n",
       "      <td>-239.379693</td>\n",
       "      <td>3</td>\n",
       "    </tr>\n",
       "    <tr>\n",
       "      <th>13</th>\n",
       "      <td>-112.122993</td>\n",
       "      <td>-321.601804</td>\n",
       "      <td>-240.661937</td>\n",
       "      <td>1</td>\n",
       "    </tr>\n",
       "    <tr>\n",
       "      <th>14</th>\n",
       "      <td>15.563454</td>\n",
       "      <td>851.281298</td>\n",
       "      <td>-219.640081</td>\n",
       "      <td>3</td>\n",
       "    </tr>\n",
       "    <tr>\n",
       "      <th>15</th>\n",
       "      <td>-107.361882</td>\n",
       "      <td>-277.866896</td>\n",
       "      <td>-239.878602</td>\n",
       "      <td>5</td>\n",
       "    </tr>\n",
       "    <tr>\n",
       "      <th>16</th>\n",
       "      <td>98.776082</td>\n",
       "      <td>1615.643187</td>\n",
       "      <td>-205.940224</td>\n",
       "      <td>4</td>\n",
       "    </tr>\n",
       "    <tr>\n",
       "      <th>17</th>\n",
       "      <td>-112.122953</td>\n",
       "      <td>-321.601930</td>\n",
       "      <td>-240.662078</td>\n",
       "      <td>1</td>\n",
       "    </tr>\n",
       "    <tr>\n",
       "      <th>18</th>\n",
       "      <td>-108.876782</td>\n",
       "      <td>-291.782542</td>\n",
       "      <td>-240.127906</td>\n",
       "      <td>3</td>\n",
       "    </tr>\n",
       "    <tr>\n",
       "      <th>19</th>\n",
       "      <td>-67.324571</td>\n",
       "      <td>89.901404</td>\n",
       "      <td>-233.286728</td>\n",
       "      <td>3</td>\n",
       "    </tr>\n",
       "  </tbody>\n",
       "</table>\n",
       "</div>"
      ],
      "text/plain": [
       "    principal component 1  principal component 2  principal component 3  class\n",
       "0              -32.330861            1623.875208             131.095942      5\n",
       "1             -234.573336            -233.851890              97.798605      5\n",
       "2             -238.252441            -267.646819              97.192998      5\n",
       "3             -236.088253            -247.767479              97.549268      5\n",
       "4             -237.062120            -256.713238              97.388922      4\n",
       "5             -200.703973              77.260351             103.374724      4\n",
       "6             -240.308578            -279.580531             101.921422      5\n",
       "7             -100.544709            -215.246925            -238.756103      4\n",
       "8             -105.630541            -261.963395            -239.593564      4\n",
       "9              -85.395451             -76.091364            -236.261969      3\n",
       "10            -112.231326            -322.595331            -240.680455      5\n",
       "11            -108.768575            -290.788567            -240.110107      4\n",
       "12            -104.332012            -250.035850            -239.379693      3\n",
       "13            -112.122993            -321.601804            -240.661937      1\n",
       "14              15.563454             851.281298            -219.640081      3\n",
       "15            -107.361882            -277.866896            -239.878602      5\n",
       "16              98.776082            1615.643187            -205.940224      4\n",
       "17            -112.122953            -321.601930            -240.662078      1\n",
       "18            -108.876782            -291.782542            -240.127906      3\n",
       "19             -67.324571              89.901404            -233.286728      3"
      ]
     },
     "execution_count": 33,
     "metadata": {},
     "output_type": "execute_result"
    }
   ],
   "source": [
    "finalDf = pd.concat([principalDf,y],axis=1)\n",
    "finalDf.head(20)"
   ]
  },
  {
   "cell_type": "code",
   "execution_count": 34,
   "metadata": {},
   "outputs": [
    {
     "data": {
      "image/png": "[encoded data removed]",
      "text/plain": [
       "<matplotlib.figure.Figure at 0x7f2a2124f1d0>"
      ]
     },
     "metadata": {},
     "output_type": "display_data"
    }
   ],
   "source": [
    "from mpl_toolkits.mplot3d import Axes3D\n",
    "\n",
    "fig = plt.figure(figsize = (8,8))\n",
    "ax = fig.add_subplot(111, projection='3d')\n",
    "\n",
    "ax.set_title('3 component PCA', fontsize = 20)\n",
    "ax.set_xlabel('principal component 1')\n",
    "ax.set_ylabel('principal component 2')\n",
    "ax.set_zlabel('principal component 3')\n",
    "\n",
    "targets = [1.0,2.0,3.0,4.0,5.0]\n",
    "colors = ['y','k','b','g','r']\n",
    "for target, color in zip(targets,colors):\n",
    "    indicesToKeep = finalDf['class'] == target\n",
    "    ax.scatter(finalDf.loc[indicesToKeep, 'principal component 1']\n",
    "               , finalDf.loc[indicesToKeep, 'principal component 2']\n",
    "               , finalDf.loc[indicesToKeep, 'principal component 3']\n",
    "               , c = color\n",
    "               , s = 50)\n",
    "ax.legend(targets)\n",
    "ax.grid() "
   ]
  },
  {
   "cell_type": "code",
   "execution_count": 35,
   "metadata": {},
   "outputs": [],
   "source": [
    "from sklearn.model_selection import train_test_split\n",
    "import numpy as np\n",
    "\n",
    "X_train, X_test, y_train, y_test = train_test_split(finalDf[['principal component 1', 'principal component 2', 'principal component 3']], finalDf[['class']], test_size=1/3, random_state=1)"
   ]
  },
  {
   "cell_type": "code",
   "execution_count": 36,
   "metadata": {},
   "outputs": [
    {
     "name": "stdout",
     "output_type": "stream",
     "text": [
      "Root mean squared error = 1.3835\n",
      "R-squared = 0.0009\n",
      "Root mean squared error = 1.3893\n",
      "R-squared = 0.0011\n"
     ]
    }
   ],
   "source": [
    "from sklearn import linear_model\n",
    "from sklearn.metrics import mean_squared_error, r2_score\n",
    "import matplotlib.pyplot as plt\n",
    "\n",
    "# Create linear regression object\n",
    "regr = linear_model.LinearRegression() \n",
    "\n",
    "# Fit regression model to the training set\n",
    "regr.fit( X_train, y_train.values.ravel() )\n",
    "\n",
    "y_train_pred = regr.predict(X_train)\n",
    "\n",
    "# Apply model to the test set\n",
    "y_pred = regr.predict( X_test )\n",
    "\n",
    "# Model evaluation\n",
    "print(\"Root mean squared error = %.4f\" % np.sqrt( mean_squared_error(y_train, y_train_pred) ))\n",
    "print('R-squared = %.4f' % r2_score( y_train, y_train_pred ))\n",
    "\n",
    "print(\"Root mean squared error = %.4f\" % np.sqrt( mean_squared_error(y_test, y_pred) ))\n",
    "print('R-squared = %.4f' % r2_score( y_test, y_pred ))"
   ]
  },
  {
   "cell_type": "code",
   "execution_count": 37,
   "metadata": {},
   "outputs": [
    {
     "name": "stdout",
     "output_type": "stream",
     "text": [
      "Accuracy = 0.4234\n"
     ]
    }
   ],
   "source": [
    "from sklearn.metrics import accuracy_score\n",
    "\n",
    "logistic = linear_model.LogisticRegressionCV(cv= 5 , Cs = [0.01, 0.05, 0.1, 0.5, 1] )\n",
    "logistic.fit( X_train, y_train.values.ravel() )\n",
    "class_pred = logistic.predict( X_test )\n",
    "\n",
    "print('Accuracy = %.4f' % accuracy_score( y_test, class_pred ))"
   ]
  }
 ],
 "metadata": {
  "kernelspec": {
   "display_name": "Python 3",
   "language": "python",
   "name": "python3"
  },
  "language_info": {
   "codemirror_mode": {
    "name": "ipython",
    "version": 3
   },
   "file_extension": ".py",
   "mimetype": "text/x-python",
   "name": "python",
   "nbconvert_exporter": "python",
   "pygments_lexer": "ipython3",
   "version": "3.6.4"
  }
 },
 "nbformat": 4,
 "nbformat_minor": 2
}
