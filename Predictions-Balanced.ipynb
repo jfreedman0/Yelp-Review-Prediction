{
 "cells": [
  {
   "cell_type": "code",
   "execution_count": 1,
   "metadata": {},
   "outputs": [],
   "source": [
    "import pandas as pd"
   ]
  },
  {
   "cell_type": "code",
   "execution_count": 2,
   "metadata": {},
   "outputs": [
    {
     "data": {
      "text/html": [
       "<div>\n",
       "<style scoped>\n",
       "    .dataframe tbody tr th:only-of-type {\n",
       "        vertical-align: middle;\n",
       "    }\n",
       "\n",
       "    .dataframe tbody tr th {\n",
       "        vertical-align: top;\n",
       "    }\n",
       "\n",
       "    .dataframe thead th {\n",
       "        text-align: right;\n",
       "    }\n",
       "</style>\n",
       "<table border=\"1\" class=\"dataframe\">\n",
       "  <thead>\n",
       "    <tr style=\"text-align: right;\">\n",
       "      <th></th>\n",
       "      <th>review_id</th>\n",
       "      <th>user_stars</th>\n",
       "      <th>user_review_count</th>\n",
       "      <th>user_useful</th>\n",
       "      <th>business_stars</th>\n",
       "      <th>business_review_count</th>\n",
       "      <th>unigram</th>\n",
       "      <th>class</th>\n",
       "    </tr>\n",
       "  </thead>\n",
       "  <tbody>\n",
       "    <tr>\n",
       "      <th>0</th>\n",
       "      <td>v0i_UHJMo_hPBq9bxWvW4w</td>\n",
       "      <td>4.67</td>\n",
       "      <td>6</td>\n",
       "      <td>0</td>\n",
       "      <td>4.0</td>\n",
       "      <td>1953</td>\n",
       "      <td>2.497094</td>\n",
       "      <td>5.0</td>\n",
       "    </tr>\n",
       "    <tr>\n",
       "      <th>1</th>\n",
       "      <td>vkVSCC7xljjrAI4UGfnKEQ</td>\n",
       "      <td>4.67</td>\n",
       "      <td>6</td>\n",
       "      <td>0</td>\n",
       "      <td>4.0</td>\n",
       "      <td>84</td>\n",
       "      <td>3.333678</td>\n",
       "      <td>5.0</td>\n",
       "    </tr>\n",
       "    <tr>\n",
       "      <th>2</th>\n",
       "      <td>n6QzIUObkYshz4dz2QRJTw</td>\n",
       "      <td>4.67</td>\n",
       "      <td>6</td>\n",
       "      <td>0</td>\n",
       "      <td>4.5</td>\n",
       "      <td>50</td>\n",
       "      <td>2.988476</td>\n",
       "      <td>5.0</td>\n",
       "    </tr>\n",
       "    <tr>\n",
       "      <th>3</th>\n",
       "      <td>MV3CcKScW05u5LVfF6ok0g</td>\n",
       "      <td>4.67</td>\n",
       "      <td>6</td>\n",
       "      <td>0</td>\n",
       "      <td>4.0</td>\n",
       "      <td>70</td>\n",
       "      <td>3.007784</td>\n",
       "      <td>5.0</td>\n",
       "    </tr>\n",
       "    <tr>\n",
       "      <th>4</th>\n",
       "      <td>IXvOzsEMYtiJI0CARmj77Q</td>\n",
       "      <td>4.67</td>\n",
       "      <td>6</td>\n",
       "      <td>0</td>\n",
       "      <td>3.5</td>\n",
       "      <td>61</td>\n",
       "      <td>2.890452</td>\n",
       "      <td>4.0</td>\n",
       "    </tr>\n",
       "  </tbody>\n",
       "</table>\n",
       "</div>"
      ],
      "text/plain": [
       "                review_id  user_stars  user_review_count  user_useful  \\\n",
       "0  v0i_UHJMo_hPBq9bxWvW4w        4.67                  6            0   \n",
       "1  vkVSCC7xljjrAI4UGfnKEQ        4.67                  6            0   \n",
       "2  n6QzIUObkYshz4dz2QRJTw        4.67                  6            0   \n",
       "3  MV3CcKScW05u5LVfF6ok0g        4.67                  6            0   \n",
       "4  IXvOzsEMYtiJI0CARmj77Q        4.67                  6            0   \n",
       "\n",
       "   business_stars  business_review_count   unigram  class  \n",
       "0             4.0                   1953  2.497094    5.0  \n",
       "1             4.0                     84  3.333678    5.0  \n",
       "2             4.5                     50  2.988476    5.0  \n",
       "3             4.0                     70  3.007784    5.0  \n",
       "4             3.5                     61  2.890452    4.0  "
      ]
     },
     "execution_count": 2,
     "metadata": {},
     "output_type": "execute_result"
    }
   ],
   "source": [
    "data = pd.read_csv('dataset/feature_vectors.csv')\n",
    "data.head()"
   ]
  },
  {
   "cell_type": "markdown",
   "metadata": {},
   "source": [
    "** Show the distribution of reviews **"
   ]
  },
  {
   "cell_type": "code",
   "execution_count": 3,
   "metadata": {},
   "outputs": [
    {
     "data": {
      "text/plain": [
       "<Container object of 5 artists>"
      ]
     },
     "execution_count": 3,
     "metadata": {},
     "output_type": "execute_result"
    },
    {
     "data": {
      "image/png": "[encoded data removed]",
      "text/plain": [
       "<matplotlib.figure.Figure at 0x7fad46e7ce10>"
      ]
     },
     "metadata": {},
     "output_type": "display_data"
    }
   ],
   "source": [
    "import matplotlib.pyplot as plt\n",
    "%matplotlib inline\n",
    "\n",
    "c1 = data[data['class'] == 1].shape[0]\n",
    "c2 = data[data['class'] == 2].shape[0]\n",
    "c3 = data[data['class'] == 3].shape[0]\n",
    "c4 = data[data['class'] == 4].shape[0]\n",
    "c5 = data[data['class'] == 5].shape[0]\n",
    "\n",
    "x = [\"1.0\", \"2.0\", \"3.0\", \"4.0\", \"5.0\"]\n",
    "y = [c1,c2,c3,c4,c5]\n",
    "\n",
    "plt.bar(x,y)\n",
    "#data['class'].plot(kind='kde',style='k--')"
   ]
  },
  {
   "cell_type": "markdown",
   "metadata": {},
   "source": [
    "** Split our data into training and testing sets **"
   ]
  },
  {
   "cell_type": "code",
   "execution_count": 10,
   "metadata": {},
   "outputs": [
    {
     "name": "stdout",
     "output_type": "stream",
     "text": [
      "0 0 0 0 1\n",
      "393 446 939 1613 1610\n",
      "873 891 1716 2966 3555\n",
      "1399 1308 2385 4000 4000\n",
      "2004 1742 3044 4000 4000\n",
      "2737 2155 3618 4000 4000\n",
      "3447 2536 4000 4000 4000\n",
      "4000 2956 4000 4000 4000\n",
      "4000 3381 4000 4000 4000\n",
      "4000 3742 4000 4000 4000\n"
     ]
    }
   ],
   "source": [
    "columns = ['review_id','user_stars','user_review_count','user_useful','business_stars','business_review_count','unigram','class']\n",
    "review = pd.DataFrame(columns=columns)\n",
    "reviews = []\n",
    "\n",
    "c1=0\n",
    "c2=0\n",
    "c3=0\n",
    "c4=0\n",
    "c5=0\n",
    "i=0\n",
    "\n",
    "for index, row in data.iterrows():\n",
    "    if row['class'] == 1 and c1 < 4000:\n",
    "        review.at[0,'review_id'] = row['review_id']\n",
    "        review.at[0,'class'] = row['class']\n",
    "\n",
    "        review.at[0,'user_stars'] = row['user_stars']\n",
    "        review.at[0,'user_review_count'] = row['user_review_count']\n",
    "        review.at[0,'user_useful'] = row['user_useful']\n",
    "\n",
    "        review.at[0,'business_stars'] = row['business_stars']\n",
    "        review.at[0,'business_review_count'] = row['business_review_count']\n",
    "\n",
    "        review.at[0,'unigram'] = row['unigram']\n",
    "\n",
    "        reviews.append(review)\n",
    "        review = pd.DataFrame(columns=columns)\n",
    "        c1 += 1\n",
    "    elif row['class'] == 2 and c2 < 4000:\n",
    "        review.at[0,'review_id'] = row['review_id']\n",
    "        review.at[0,'class'] = row['class']\n",
    "\n",
    "        review.at[0,'user_stars'] = row['user_stars']\n",
    "        review.at[0,'user_review_count'] = row['user_review_count']\n",
    "        review.at[0,'user_useful'] = row['user_useful']\n",
    "\n",
    "        review.at[0,'business_stars'] = row['business_stars']\n",
    "        review.at[0,'business_review_count'] = row['business_review_count']\n",
    "\n",
    "        review.at[0,'unigram'] = row['unigram']\n",
    "\n",
    "        reviews.append(review)\n",
    "        review = pd.DataFrame(columns=columns)\n",
    "        c2 += 1\n",
    "    elif row['class'] == 3 and c3 < 4000:\n",
    "        review.at[0,'review_id'] = row['review_id']\n",
    "        review.at[0,'class'] = row['class']\n",
    "\n",
    "        review.at[0,'user_stars'] = row['user_stars']\n",
    "        review.at[0,'user_review_count'] = row['user_review_count']\n",
    "        review.at[0,'user_useful'] = row['user_useful']\n",
    "\n",
    "        review.at[0,'business_stars'] = row['business_stars']\n",
    "        review.at[0,'business_review_count'] = row['business_review_count']\n",
    "\n",
    "        review.at[0,'unigram'] = row['unigram']\n",
    "\n",
    "        reviews.append(review)\n",
    "        review = pd.DataFrame(columns=columns)\n",
    "        c3 += 1\n",
    "    elif row['class'] == 4 and c4 < 4000:\n",
    "        review.at[0,'review_id'] = row['review_id']\n",
    "        review.at[0,'class'] = row['class']\n",
    "\n",
    "        review.at[0,'user_stars'] = row['user_stars']\n",
    "        review.at[0,'user_review_count'] = row['user_review_count']\n",
    "        review.at[0,'user_useful'] = row['user_useful']\n",
    "\n",
    "        review.at[0,'business_stars'] = row['business_stars']\n",
    "        review.at[0,'business_review_count'] = row['business_review_count']\n",
    "\n",
    "        review.at[0,'unigram'] = row['unigram']\n",
    "\n",
    "        reviews.append(review)\n",
    "        review = pd.DataFrame(columns=columns)\n",
    "        c4 += 1\n",
    "    elif row['class'] == 5 and c5 < 4000:\n",
    "        review.at[0,'review_id'] = row['review_id']\n",
    "        review.at[0,'class'] = row['class']\n",
    "\n",
    "        review.at[0,'user_stars'] = row['user_stars']\n",
    "        review.at[0,'user_review_count'] = row['user_review_count']\n",
    "        review.at[0,'user_useful'] = row['user_useful']\n",
    "\n",
    "        review.at[0,'business_stars'] = row['business_stars']\n",
    "        review.at[0,'business_review_count'] = row['business_review_count']\n",
    "\n",
    "        review.at[0,'unigram'] = row['unigram']\n",
    "\n",
    "        reviews.append(review)\n",
    "        review = pd.DataFrame(columns=columns)\n",
    "        c5 += 1\n",
    "        \n",
    "    if i%5000 == 0:\n",
    "        print(c1,c2,c3,c4,c5)\n",
    "\n",
    "    i += 1\n",
    "\n",
    "    if c1 >= 4000 and c2 >= 4000 and c3 >= 4000 and c4 >= 4000 and c5 >= 4000:\n",
    "        break\n"
   ]
  },
  {
   "cell_type": "code",
   "execution_count": 12,
   "metadata": {},
   "outputs": [],
   "source": [
    "data = pd.concat(reviews)"
   ]
  },
  {
   "cell_type": "code",
   "execution_count": 13,
   "metadata": {},
   "outputs": [
    {
     "data": {
      "text/plain": [
       "<Container object of 5 artists>"
      ]
     },
     "execution_count": 13,
     "metadata": {},
     "output_type": "execute_result"
    },
    {
     "data": {
      "image/png": "[encoded data removed]",
      "text/plain": [
       "<matplotlib.figure.Figure at 0x7fad2a3951d0>"
      ]
     },
     "metadata": {},
     "output_type": "display_data"
    }
   ],
   "source": [
    "import matplotlib.pyplot as plt\n",
    "%matplotlib inline\n",
    "\n",
    "c1 = data[data['class'] == 1].shape[0]\n",
    "c2 = data[data['class'] == 2].shape[0]\n",
    "c3 = data[data['class'] == 3].shape[0]\n",
    "c4 = data[data['class'] == 4].shape[0]\n",
    "c5 = data[data['class'] == 5].shape[0]\n",
    "\n",
    "x = [\"1.0\", \"2.0\", \"3.0\", \"4.0\", \"5.0\"]\n",
    "y = [c1,c2,c3,c4,c5]\n",
    "\n",
    "plt.bar(x,y)\n",
    "#data['class'].plot(kind='kde',style='k--')"
   ]
  },
  {
   "cell_type": "code",
   "execution_count": 14,
   "metadata": {},
   "outputs": [],
   "source": [
    "from sklearn.model_selection import train_test_split\n",
    "import numpy as np\n",
    "from sklearn.preprocessing import StandardScaler\n",
    "\n",
    "X = data[['user_stars','user_review_count','user_useful','business_stars','business_review_count','unigram']]\n",
    "y = data[['class']]\n",
    "\n",
    "X_train, X_test, y_train, y_test = train_test_split(X, y, test_size=1/3, random_state=1)"
   ]
  },
  {
   "cell_type": "markdown",
   "metadata": {},
   "source": [
    "** Run a linear regression model on the data **"
   ]
  },
  {
   "cell_type": "code",
   "execution_count": 15,
   "metadata": {},
   "outputs": [
    {
     "name": "stdout",
     "output_type": "stream",
     "text": [
      "Root mean squared error = 0.9916\n",
      "R-squared = 0.5116\n",
      "Root mean squared error = 0.9809\n",
      "R-squared = 0.5125\n"
     ]
    }
   ],
   "source": [
    "from sklearn import linear_model\n",
    "from sklearn.metrics import mean_squared_error, r2_score\n",
    "import matplotlib.pyplot as plt\n",
    "\n",
    "# Create linear regression object\n",
    "regr = linear_model.LinearRegression() \n",
    "\n",
    "# Fit regression model to the training set\n",
    "regr.fit( X_train, y_train.values.ravel() )\n",
    "\n",
    "y_train_pred = regr.predict(X_train)\n",
    "\n",
    "# Apply model to the test set\n",
    "y_pred = regr.predict( X_test )\n",
    "\n",
    "# Model evaluation\n",
    "print(\"Root mean squared error = %.4f\" % np.sqrt( mean_squared_error(y_train, y_train_pred) ))\n",
    "print('R-squared = %.4f' % r2_score( y_train, y_train_pred ))\n",
    "\n",
    "print(\"Root mean squared error = %.4f\" % np.sqrt( mean_squared_error(y_test, y_pred) ))\n",
    "print('R-squared = %.4f' % r2_score( y_test, y_pred ))"
   ]
  },
  {
   "cell_type": "markdown",
   "metadata": {},
   "source": [
    "** Run a ridge regression model on the data **"
   ]
  },
  {
   "cell_type": "code",
   "execution_count": 16,
   "metadata": {},
   "outputs": [
    {
     "name": "stdout",
     "output_type": "stream",
     "text": [
      "Root mean squared error = 0.9916\n",
      "R-squared = 0.5116\n",
      "Root mean squared error = 0.9809\n",
      "R-squared = 0.5125\n",
      "Selected alpha = 1.00\n"
     ]
    }
   ],
   "source": [
    "# Create lasso regression object\n",
    "ridge = linear_model.RidgeCV(cv=5, alphas=[0.01,0.02,0.05,0.1,0.2,0.3,0.5,1.0])\n",
    "\n",
    "# Fit regression model to the training set\n",
    "ridge.fit( X_train, y_train.values.ravel() )\n",
    "\n",
    "y_train_pred = ridge.predict(X_train)\n",
    "\n",
    "# Apply model to the test set\n",
    "y_pred = ridge.predict( X_test )\n",
    "\n",
    "# Model evaluation\n",
    "print(\"Root mean squared error = %.4f\" % np.sqrt( mean_squared_error(y_train, y_train_pred) ))\n",
    "print('R-squared = %.4f' % r2_score( y_train, y_train_pred ))\n",
    "\n",
    "# Model evaluation\n",
    "print(\"Root mean squared error = %.4f\" % np.sqrt( mean_squared_error(y_test,y_pred) ))\n",
    "print('R-squared = %.4f' % r2_score( y_test,y_pred ))\n",
    "print('Selected alpha = %.2f' % ridge.alpha_)"
   ]
  },
  {
   "cell_type": "markdown",
   "metadata": {},
   "source": [
    "** Run a lasso regression model on the data **"
   ]
  },
  {
   "cell_type": "code",
   "execution_count": 17,
   "metadata": {},
   "outputs": [
    {
     "name": "stdout",
     "output_type": "stream",
     "text": [
      "Root mean squared error = 0.9918\n",
      "R-squared = 0.5114\n",
      "Root mean squared error = 0.9807\n",
      "R-squared = 0.5127\n",
      "Selected alpha = 0.01\n"
     ]
    }
   ],
   "source": [
    "# Create lasso regression object\n",
    "lasso = linear_model.LassoCV(cv=5, alphas=[0.01,0.02,0.05,0.1,0.2,0.3,0.5,1.0])\n",
    "\n",
    "# Fit regression model to the training set\n",
    "lasso.fit( X_train, y_train.values.ravel() )\n",
    "\n",
    "y_train_pred = lasso.predict(X_train)\n",
    "\n",
    "# Apply model to the test set\n",
    "y_pred = lasso.predict( X_test )\n",
    "\n",
    "# Model evaluation\n",
    "print(\"Root mean squared error = %.4f\" % np.sqrt( mean_squared_error(y_train, y_train_pred) ))\n",
    "print('R-squared = %.4f' % r2_score( y_train, y_train_pred ))\n",
    "\n",
    "# Model evaluation\n",
    "print(\"Root mean squared error = %.4f\" % np.sqrt( mean_squared_error(y_test,y_pred) ))\n",
    "print('R-squared = %.4f' % r2_score( y_test,y_pred ))\n",
    "print('Selected alpha = %.2f' % lasso.alpha_)"
   ]
  },
  {
   "cell_type": "markdown",
   "metadata": {},
   "source": [
    "** Test the RMSE and R2_score just using the unigram prediction **"
   ]
  },
  {
   "cell_type": "code",
   "execution_count": 18,
   "metadata": {},
   "outputs": [
    {
     "name": "stdout",
     "output_type": "stream",
     "text": [
      "Root mean squared error = 1.3528\n",
      "R-squared = 0.0728\n"
     ]
    }
   ],
   "source": [
    "from sklearn.model_selection import train_test_split\n",
    "import numpy as np\n",
    "\n",
    "y_unigram_pred = X_test[['unigram']]\n",
    "print(\"Root mean squared error = %.4f\" % np.sqrt( mean_squared_error(y_test,y_unigram_pred) ))\n",
    "print('R-squared = %.4f' % r2_score( y_test,y_unigram_pred ))"
   ]
  },
  {
   "cell_type": "markdown",
   "metadata": {},
   "source": [
    "** Test the RMSE and R2_score of a base case where every review is classified as 5 (the most common class) **"
   ]
  },
  {
   "cell_type": "code",
   "execution_count": 19,
   "metadata": {},
   "outputs": [
    {
     "name": "stdout",
     "output_type": "stream",
     "text": [
      "Root mean squared error = 2.4455\n",
      "R-squared = -2.0299\n"
     ]
    }
   ],
   "source": [
    "y_test_base = [5 for i in range(len(y_test))]\n",
    "print(\"Root mean squared error = %.4f\" % np.sqrt( mean_squared_error(y_test, y_test_base) ))\n",
    "print('R-squared = %.4f' % r2_score( y_test, y_test_base ))"
   ]
  },
  {
   "cell_type": "markdown",
   "metadata": {},
   "source": [
    "** Test the RMSE and R2_score of a base case where every review is classified as the average review score **"
   ]
  },
  {
   "cell_type": "code",
   "execution_count": 20,
   "metadata": {},
   "outputs": [
    {
     "name": "stdout",
     "output_type": "stream",
     "text": [
      "Root mean squared error = 1.4049\n",
      "R-squared = -0.0000\n"
     ]
    }
   ],
   "source": [
    "x = 5*(len(data[data['class']==5])/20000)+4*(len(data[data['class']==4])/20000)+3*(len(data[data['class']==3])/20000)+2*(len(data[data['class']==2])/20000)+1*(len(data[data['class']==1])/20000)\n",
    "y_test_base = [x for i in range(len(y_test))]\n",
    "print(\"Root mean squared error = %.4f\" % np.sqrt( mean_squared_error(y_test, y_test_base) ))\n",
    "print('R-squared = %.4f' % r2_score( y_test, y_test_base ))"
   ]
  },
  {
   "cell_type": "markdown",
   "metadata": {},
   "source": [
    "** Run a logistic regression classifier on the feature vector **"
   ]
  },
  {
   "cell_type": "code",
   "execution_count": 21,
   "metadata": {},
   "outputs": [
    {
     "name": "stdout",
     "output_type": "stream",
     "text": [
      "Accuracy = 0.5179\n"
     ]
    }
   ],
   "source": [
    "from sklearn.metrics import accuracy_score\n",
    "\n",
    "y_train = y_train.astype('int')\n",
    "y_test = y_test.astype('int')\n",
    "logistic = linear_model.LogisticRegressionCV(cv= 5 , Cs = [0.01, 0.05, 0.1, 0.5, 1] )\n",
    "logistic.fit( X_train, y_train.values.ravel() )\n",
    "class_pred = logistic.predict( X_test )\n",
    "\n",
    "print('Accuracy = %.4f' % accuracy_score( y_test, class_pred ))"
   ]
  },
  {
   "cell_type": "markdown",
   "metadata": {},
   "source": [
    "** Determine base classification accuracy by classifying as 5 every time **"
   ]
  },
  {
   "cell_type": "code",
   "execution_count": 23,
   "metadata": {},
   "outputs": [
    {
     "name": "stdout",
     "output_type": "stream",
     "text": [
      "Base accuracy = 0.2000\n"
     ]
    }
   ],
   "source": [
    "print(\"Base accuracy = %.4f\" % (len(data[data['class']==5])/20000))"
   ]
  },
  {
   "cell_type": "markdown",
   "metadata": {},
   "source": [
    "** Determine base classification accuracy by assigning a random class based on the probability distribution of our data **"
   ]
  },
  {
   "cell_type": "code",
   "execution_count": 25,
   "metadata": {},
   "outputs": [
    {
     "name": "stdout",
     "output_type": "stream",
     "text": [
      "Accuracy = 0.1906\n"
     ]
    }
   ],
   "source": [
    "from random import randint\n",
    "\n",
    "y_base_class = []\n",
    "pred5 = 100 - (len(data[data['class']==5])/20000)*100\n",
    "pred4 = pred5 - (len(data[data['class']==4])/20000)*100\n",
    "pred3 = pred4 - (len(data[data['class']==3])/20000)*100\n",
    "pred2 = pred3 - (len(data[data['class']==2])/20000)*100\n",
    "pred1 = pred2 - (len(data[data['class']==1])/20000)*100\n",
    "\n",
    "for i in range(len(y_test)):\n",
    "    x=randint(0, 100)\n",
    "    if x > pred5:\n",
    "        y_base_class.append(5)\n",
    "    elif x > pred4:\n",
    "        y_base_class.append(4)\n",
    "    elif x > pred3:\n",
    "        y_base_class.append(3)\n",
    "    elif x > pred2:\n",
    "        y_base_class.append(2)\n",
    "    else:\n",
    "        y_base_class.append(1)\n",
    "        \n",
    "print('Accuracy = %.4f' % accuracy_score( y_test, y_base_class ))"
   ]
  },
  {
   "cell_type": "markdown",
   "metadata": {},
   "source": [
    "** Re-train the model by classifying reviews as \"good\" (1) or \"bad\" (0) instead of making a unigram prediction **"
   ]
  },
  {
   "cell_type": "code",
   "execution_count": 26,
   "metadata": {},
   "outputs": [
    {
     "name": "stderr",
     "output_type": "stream",
     "text": [
      "/home/ec2-user/anaconda3/lib/python3.6/site-packages/ipykernel_launcher.py:8: SettingWithCopyWarning: \n",
      "A value is trying to be set on a copy of a slice from a DataFrame.\n",
      "Try using .loc[row_indexer,col_indexer] = value instead\n",
      "\n",
      "See the caveats in the documentation: http://pandas.pydata.org/pandas-docs/stable/indexing.html#indexing-view-versus-copy\n",
      "  \n",
      "/home/ec2-user/anaconda3/lib/python3.6/site-packages/ipykernel_launcher.py:9: SettingWithCopyWarning: \n",
      "A value is trying to be set on a copy of a slice from a DataFrame.\n",
      "Try using .loc[row_indexer,col_indexer] = value instead\n",
      "\n",
      "See the caveats in the documentation: http://pandas.pydata.org/pandas-docs/stable/indexing.html#indexing-view-versus-copy\n",
      "  if __name__ == '__main__':\n"
     ]
    }
   ],
   "source": [
    "from sklearn.model_selection import train_test_split\n",
    "import numpy as np\n",
    "import copy\n",
    "\n",
    "X_train_copy = copy.deepcopy(X_train)\n",
    "X_test_copy = copy.deepcopy(X_test)\n",
    "\n",
    "X_train['unigram'] = [1 if point >= 2.5 else 0 for point in X_train_copy['unigram']]\n",
    "X_test['unigram'] = [1 if point >= 2.5 else 0 for point in X_test_copy['unigram']]"
   ]
  },
  {
   "cell_type": "code",
   "execution_count": 27,
   "metadata": {},
   "outputs": [
    {
     "name": "stdout",
     "output_type": "stream",
     "text": [
      "Root mean squared error = 0.9779\n",
      "R-squared = 0.5249\n",
      "Root mean squared error = 0.9622\n",
      "R-squared = 0.5309\n"
     ]
    }
   ],
   "source": [
    "from sklearn import linear_model\n",
    "from sklearn.metrics import mean_squared_error, r2_score\n",
    "import matplotlib.pyplot as plt\n",
    "\n",
    "# Create linear regression object\n",
    "regr = linear_model.LinearRegression() \n",
    "\n",
    "# Fit regression model to the training set\n",
    "regr.fit( X_train, y_train.values.ravel() )\n",
    "\n",
    "y_train_pred = regr.predict(X_train)\n",
    "\n",
    "# Apply model to the test set\n",
    "y_pred = regr.predict( X_test )\n",
    "\n",
    "# Model evaluation\n",
    "print(\"Root mean squared error = %.4f\" % np.sqrt( mean_squared_error(y_train, y_train_pred) ))\n",
    "print('R-squared = %.4f' % r2_score( y_train, y_train_pred ))\n",
    "\n",
    "print(\"Root mean squared error = %.4f\" % np.sqrt( mean_squared_error(y_test, y_pred) ))\n",
    "print('R-squared = %.4f' % r2_score( y_test, y_pred ))"
   ]
  },
  {
   "cell_type": "code",
   "execution_count": 28,
   "metadata": {},
   "outputs": [
    {
     "name": "stdout",
     "output_type": "stream",
     "text": [
      "Root mean squared error = 0.9779\n",
      "R-squared = 0.5249\n",
      "Root mean squared error = 0.9622\n",
      "R-squared = 0.5309\n",
      "Selected alpha = 1.00\n"
     ]
    }
   ],
   "source": [
    "# Create lasso regression object\n",
    "ridge = linear_model.RidgeCV(cv=5, alphas=[0.01,0.02,0.05,0.1,0.2,0.3,0.5,1.0])\n",
    "\n",
    "# Fit regression model to the training set\n",
    "ridge.fit( X_train, y_train.values.ravel() )\n",
    "\n",
    "y_train_pred = ridge.predict(X_train)\n",
    "\n",
    "# Apply model to the test set\n",
    "y_pred = ridge.predict( X_test )\n",
    "\n",
    "# Model evaluation\n",
    "print(\"Root mean squared error = %.4f\" % np.sqrt( mean_squared_error(y_train, y_train_pred) ))\n",
    "print('R-squared = %.4f' % r2_score( y_train, y_train_pred ))\n",
    "\n",
    "# Model evaluation\n",
    "print(\"Root mean squared error = %.4f\" % np.sqrt( mean_squared_error(y_test,y_pred) ))\n",
    "print('R-squared = %.4f' % r2_score( y_test,y_pred ))\n",
    "print('Selected alpha = %.2f' % ridge.alpha_)"
   ]
  },
  {
   "cell_type": "code",
   "execution_count": 29,
   "metadata": {},
   "outputs": [
    {
     "name": "stdout",
     "output_type": "stream",
     "text": [
      "Root mean squared error = 0.9779\n",
      "R-squared = 0.5249\n",
      "Root mean squared error = 0.9620\n",
      "R-squared = 0.5311\n",
      "Selected alpha = 0.01\n"
     ]
    }
   ],
   "source": [
    "# Create lasso regression object\n",
    "lasso = linear_model.LassoCV(cv=5, alphas=[0.01,0.02,0.05,0.1,0.2,0.3,0.5,1.0])\n",
    "\n",
    "# Fit regression model to the training set\n",
    "lasso.fit( X_train, y_train.values.ravel() )\n",
    "\n",
    "y_train_pred = regr.predict(X_train)\n",
    "\n",
    "# Apply model to the test set\n",
    "y_pred = lasso.predict( X_test )\n",
    "\n",
    "# Model evaluation\n",
    "print(\"Root mean squared error = %.4f\" % np.sqrt( mean_squared_error(y_train, y_train_pred) ))\n",
    "print('R-squared = %.4f' % r2_score( y_train, y_train_pred ))\n",
    "\n",
    "# Model evaluation\n",
    "print(\"Root mean squared error = %.4f\" % np.sqrt( mean_squared_error(y_test,y_pred) ))\n",
    "print('R-squared = %.4f' % r2_score( y_test,y_pred ))\n",
    "print('Selected alpha = %.2f' % lasso.alpha_)"
   ]
  },
  {
   "cell_type": "code",
   "execution_count": 30,
   "metadata": {},
   "outputs": [
    {
     "name": "stdout",
     "output_type": "stream",
     "text": [
      "Accuracy = 0.4897\n"
     ]
    }
   ],
   "source": [
    "from sklearn.metrics import accuracy_score\n",
    "\n",
    "logistic = linear_model.LogisticRegressionCV(cv= 5 , Cs = [0.01, 0.05, 0.1, 0.5, 1] )\n",
    "logistic.fit( X_train, y_train.values.ravel() )\n",
    "class_pred = logistic.predict( X_test )\n",
    "\n",
    "print('Accuracy = %.4f' % accuracy_score( y_test, class_pred ))"
   ]
  },
  {
   "cell_type": "markdown",
   "metadata": {},
   "source": [
    "**Re-train the model by classifying reviews as \"good\" (2), \"medium\" (1) or \"bad\" (0) instead of making a unigram prediction**"
   ]
  },
  {
   "cell_type": "code",
   "execution_count": 31,
   "metadata": {
    "scrolled": true
   },
   "outputs": [
    {
     "name": "stderr",
     "output_type": "stream",
     "text": [
      "/home/ec2-user/anaconda3/lib/python3.6/site-packages/ipykernel_launcher.py:5: SettingWithCopyWarning: \n",
      "A value is trying to be set on a copy of a slice from a DataFrame.\n",
      "Try using .loc[row_indexer,col_indexer] = value instead\n",
      "\n",
      "See the caveats in the documentation: http://pandas.pydata.org/pandas-docs/stable/indexing.html#indexing-view-versus-copy\n",
      "  \"\"\"\n",
      "/home/ec2-user/anaconda3/lib/python3.6/site-packages/ipykernel_launcher.py:6: SettingWithCopyWarning: \n",
      "A value is trying to be set on a copy of a slice from a DataFrame.\n",
      "Try using .loc[row_indexer,col_indexer] = value instead\n",
      "\n",
      "See the caveats in the documentation: http://pandas.pydata.org/pandas-docs/stable/indexing.html#indexing-view-versus-copy\n",
      "  \n"
     ]
    },
    {
     "data": {
      "text/html": [
       "<div>\n",
       "<style scoped>\n",
       "    .dataframe tbody tr th:only-of-type {\n",
       "        vertical-align: middle;\n",
       "    }\n",
       "\n",
       "    .dataframe tbody tr th {\n",
       "        vertical-align: top;\n",
       "    }\n",
       "\n",
       "    .dataframe thead th {\n",
       "        text-align: right;\n",
       "    }\n",
       "</style>\n",
       "<table border=\"1\" class=\"dataframe\">\n",
       "  <thead>\n",
       "    <tr style=\"text-align: right;\">\n",
       "      <th></th>\n",
       "      <th>user_stars</th>\n",
       "      <th>user_review_count</th>\n",
       "      <th>user_useful</th>\n",
       "      <th>business_stars</th>\n",
       "      <th>business_review_count</th>\n",
       "      <th>unigram</th>\n",
       "    </tr>\n",
       "  </thead>\n",
       "  <tbody>\n",
       "    <tr>\n",
       "      <th>0</th>\n",
       "      <td>3.71</td>\n",
       "      <td>6</td>\n",
       "      <td>43</td>\n",
       "      <td>4</td>\n",
       "      <td>271</td>\n",
       "      <td>2</td>\n",
       "    </tr>\n",
       "    <tr>\n",
       "      <th>0</th>\n",
       "      <td>3</td>\n",
       "      <td>16</td>\n",
       "      <td>6</td>\n",
       "      <td>1</td>\n",
       "      <td>22</td>\n",
       "      <td>0</td>\n",
       "    </tr>\n",
       "    <tr>\n",
       "      <th>0</th>\n",
       "      <td>3.69</td>\n",
       "      <td>36</td>\n",
       "      <td>8</td>\n",
       "      <td>4</td>\n",
       "      <td>5</td>\n",
       "      <td>0</td>\n",
       "    </tr>\n",
       "    <tr>\n",
       "      <th>0</th>\n",
       "      <td>3.44</td>\n",
       "      <td>8</td>\n",
       "      <td>15</td>\n",
       "      <td>2.5</td>\n",
       "      <td>22</td>\n",
       "      <td>0</td>\n",
       "    </tr>\n",
       "    <tr>\n",
       "      <th>0</th>\n",
       "      <td>1</td>\n",
       "      <td>1</td>\n",
       "      <td>0</td>\n",
       "      <td>4</td>\n",
       "      <td>5447</td>\n",
       "      <td>0</td>\n",
       "    </tr>\n",
       "  </tbody>\n",
       "</table>\n",
       "</div>"
      ],
      "text/plain": [
       "  user_stars user_review_count user_useful business_stars  \\\n",
       "0       3.71                 6          43              4   \n",
       "0          3                16           6              1   \n",
       "0       3.69                36           8              4   \n",
       "0       3.44                 8          15            2.5   \n",
       "0          1                 1           0              4   \n",
       "\n",
       "  business_review_count  unigram  \n",
       "0                   271        2  \n",
       "0                    22        0  \n",
       "0                     5        0  \n",
       "0                    22        0  \n",
       "0                  5447        0  "
      ]
     },
     "execution_count": 31,
     "metadata": {},
     "output_type": "execute_result"
    }
   ],
   "source": [
    "from sklearn.model_selection import train_test_split\n",
    "import numpy as np\n",
    "import copy\n",
    "\n",
    "X_train['unigram'] = [2 if point > 3.1 else 1 if point > 2.1 else 0 for point in X_train_copy['unigram']]\n",
    "X_test['unigram'] = [2 if point > 3.1 else 1 if point > 2.1 else 0 for point in X_test_copy['unigram']]\n",
    "\n",
    "X_train.head()"
   ]
  },
  {
   "cell_type": "code",
   "execution_count": 32,
   "metadata": {},
   "outputs": [
    {
     "name": "stdout",
     "output_type": "stream",
     "text": [
      "Root mean squared error = 0.9344\n",
      "R-squared = 0.5663\n",
      "Root mean squared error = 0.9174\n",
      "R-squared = 0.5736\n"
     ]
    }
   ],
   "source": [
    "from sklearn import linear_model\n",
    "from sklearn.metrics import mean_squared_error, r2_score\n",
    "import matplotlib.pyplot as plt\n",
    "\n",
    "# Create linear regression object\n",
    "regr = linear_model.LinearRegression() \n",
    "\n",
    "# Fit regression model to the training set\n",
    "regr.fit( X_train, y_train.values.ravel() )\n",
    "\n",
    "y_train_pred = regr.predict(X_train)\n",
    "\n",
    "# Apply model to the test set\n",
    "y_pred = regr.predict( X_test )\n",
    "\n",
    "# Model evaluation\n",
    "print(\"Root mean squared error = %.4f\" % np.sqrt( mean_squared_error(y_train, y_train_pred) ))\n",
    "print('R-squared = %.4f' % r2_score( y_train, y_train_pred ))\n",
    "\n",
    "print(\"Root mean squared error = %.4f\" % np.sqrt( mean_squared_error(y_test, y_pred) ))\n",
    "print('R-squared = %.4f' % r2_score( y_test, y_pred ))"
   ]
  },
  {
   "cell_type": "code",
   "execution_count": 33,
   "metadata": {},
   "outputs": [
    {
     "name": "stdout",
     "output_type": "stream",
     "text": [
      "Root mean squared error = 0.9344\n",
      "R-squared = 0.5663\n",
      "Root mean squared error = 0.9174\n",
      "R-squared = 0.5736\n",
      "Selected alpha = 1.00\n"
     ]
    }
   ],
   "source": [
    "# Create lasso regression object\n",
    "ridge = linear_model.RidgeCV(cv=5, alphas=[0.01,0.02,0.05,0.1,0.2,0.3,0.5,1.0])\n",
    "\n",
    "# Fit regression model to the training set\n",
    "ridge.fit( X_train, y_train.values.ravel() )\n",
    "\n",
    "y_train_pred = ridge.predict(X_train)\n",
    "\n",
    "# Apply model to the test set\n",
    "y_pred = ridge.predict( X_test )\n",
    "\n",
    "# Model evaluation\n",
    "print(\"Root mean squared error = %.4f\" % np.sqrt( mean_squared_error(y_train, y_train_pred) ))\n",
    "print('R-squared = %.4f' % r2_score( y_train, y_train_pred ))\n",
    "\n",
    "# Model evaluation\n",
    "print(\"Root mean squared error = %.4f\" % np.sqrt( mean_squared_error(y_test,y_pred) ))\n",
    "print('R-squared = %.4f' % r2_score( y_test,y_pred ))\n",
    "print('Selected alpha = %.2f' % ridge.alpha_)"
   ]
  },
  {
   "cell_type": "code",
   "execution_count": 34,
   "metadata": {},
   "outputs": [
    {
     "name": "stdout",
     "output_type": "stream",
     "text": [
      "Root mean squared error = 0.9344\n",
      "R-squared = 0.5663\n",
      "Root mean squared error = 0.9173\n",
      "R-squared = 0.5737\n",
      "Selected alpha = 0.01\n"
     ]
    }
   ],
   "source": [
    "# Create lasso regression object\n",
    "lasso = linear_model.LassoCV(cv=5, alphas=[0.01,0.02,0.05,0.1,0.2,0.3,0.5,1.0])\n",
    "\n",
    "# Fit regression model to the training set\n",
    "lasso.fit( X_train, y_train.values.ravel() )\n",
    "\n",
    "y_train_pred = regr.predict(X_train)\n",
    "\n",
    "# Apply model to the test set\n",
    "y_pred = lasso.predict( X_test )\n",
    "\n",
    "# Model evaluation\n",
    "print(\"Root mean squared error = %.4f\" % np.sqrt( mean_squared_error(y_train, y_train_pred) ))\n",
    "print('R-squared = %.4f' % r2_score( y_train, y_train_pred ))\n",
    "\n",
    "# Model evaluation\n",
    "print(\"Root mean squared error = %.4f\" % np.sqrt( mean_squared_error(y_test,y_pred) ))\n",
    "print('R-squared = %.4f' % r2_score( y_test,y_pred ))\n",
    "print('Selected alpha = %.2f' % lasso.alpha_)"
   ]
  },
  {
   "cell_type": "code",
   "execution_count": 35,
   "metadata": {},
   "outputs": [
    {
     "name": "stdout",
     "output_type": "stream",
     "text": [
      "Accuracy = 0.5247\n"
     ]
    }
   ],
   "source": [
    "from sklearn.metrics import accuracy_score\n",
    "\n",
    "logistic = linear_model.LogisticRegressionCV(cv= 5 , Cs = [0.01, 0.05, 0.1, 0.5, 1] )\n",
    "logistic.fit( X_train, y_train.values.ravel() )\n",
    "class_pred = logistic.predict( X_test )\n",
    "\n",
    "print('Accuracy = %.4f' % accuracy_score( y_test, class_pred ))"
   ]
  }
 ],
 "metadata": {
  "kernelspec": {
   "display_name": "Python 3",
   "language": "python",
   "name": "python3"
  },
  "language_info": {
   "codemirror_mode": {
    "name": "ipython",
    "version": 3
   },
   "file_extension": ".py",
   "mimetype": "text/x-python",
   "name": "python",
   "nbconvert_exporter": "python",
   "pygments_lexer": "ipython3",
   "version": "3.6.4"
  }
 },
 "nbformat": 4,
 "nbformat_minor": 2
}
